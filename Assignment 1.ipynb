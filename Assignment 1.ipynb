{
 "cells": [
  {
   "cell_type": "code",
   "execution_count": 2,
   "id": "fb974fee",
   "metadata": {},
   "outputs": [
    {
     "name": "stdout",
     "output_type": "stream",
     "text": [
      "enter a string:pragya pandita\n",
      "length of input string is: 14\n"
     ]
    }
   ],
   "source": [
    "#user inputs the string\n",
    "str=input(\"enter a string:\")\n",
    "#using len function to find length\n",
    "print(\"length of input string is:\",len(str))"
   ]
  },
  {
   "cell_type": "code",
   "execution_count": 9,
   "id": "4163aed0",
   "metadata": {},
   "outputs": [
    {
     "name": "stdout",
     "output_type": "stream",
     "text": [
      "enter the number49\n",
      "square root: 7.0\n"
     ]
    }
   ],
   "source": [
    "#user inputs number\n",
    "number=int(input(\"enter the number\"))\n",
    "#using sqrt function to find square root\n",
    "import math\n",
    "sqrt=math.sqrt(number)\n",
    "print(\"square root:\",sqrt)"
   ]
  },
  {
   "cell_type": "code",
   "execution_count": 10,
   "id": "74dadefc",
   "metadata": {},
   "outputs": [
    {
     "name": "stdout",
     "output_type": "stream",
     "text": [
      "enter temperature in celsius:10\n",
      "temperature in farenheit is  50.0\n"
     ]
    }
   ],
   "source": [
    "#calculate temperature in farenheit\n",
    "celsius=float(input(\"enter temperature in celsius:\"))\n",
    "farenheit=(celsius*1.8)+32\n",
    "print(\"temperature in farenheit is \",farenheit)"
   ]
  },
  {
   "cell_type": "code",
   "execution_count": 11,
   "id": "1a65e7f3",
   "metadata": {},
   "outputs": [
    {
     "name": "stdout",
     "output_type": "stream",
     "text": [
      "<class 'int'>\n"
     ]
    }
   ],
   "source": [
    "a=10\n",
    "print(type(a))"
   ]
  },
  {
   "cell_type": "code",
   "execution_count": 12,
   "id": "59fde97c",
   "metadata": {},
   "outputs": [
    {
     "name": "stdout",
     "output_type": "stream",
     "text": [
      "<class 'float'>\n"
     ]
    }
   ],
   "source": [
    "b=4.5\n",
    "print(type(b))"
   ]
  },
  {
   "cell_type": "code",
   "execution_count": 13,
   "id": "46ac7360",
   "metadata": {},
   "outputs": [
    {
     "name": "stdout",
     "output_type": "stream",
     "text": [
      "<class 'complex'>\n"
     ]
    }
   ],
   "source": [
    "c=2+6j\n",
    "print(type(c))"
   ]
  }
 ],
 "metadata": {
  "kernelspec": {
   "display_name": "Python 3 (ipykernel)",
   "language": "python",
   "name": "python3"
  },
  "language_info": {
   "codemirror_mode": {
    "name": "ipython",
    "version": 3
   },
   "file_extension": ".py",
   "mimetype": "text/x-python",
   "name": "python",
   "nbconvert_exporter": "python",
   "pygments_lexer": "ipython3",
   "version": "3.9.13"
  }
 },
 "nbformat": 4,
 "nbformat_minor": 5
}
